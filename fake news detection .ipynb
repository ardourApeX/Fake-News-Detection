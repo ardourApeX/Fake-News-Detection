{
 "cells": [
  {
   "cell_type": "code",
   "execution_count": 1,
   "metadata": {},
   "outputs": [],
   "source": [
    "import pandas as pd\n",
    "import numpy as np\n",
    "import matplotlib.pyplot as plt\n",
    "import seaborn as sns\n",
    "%matplotlib inline\n",
    "from sklearn.feature_extraction.text import CountVectorizer\n",
    "from sklearn.feature_extraction.text import TfidfTransformer\n",
    "from sklearn import feature_extraction, linear_model, model_selection, preprocessing\n",
    "from sklearn.metrics import accuracy_score\n",
    "from sklearn.model_selection import train_test_split\n",
    "from sklearn.pipeline import Pipeline"
   ]
  },
  {
   "cell_type": "markdown",
   "metadata": {},
   "source": [
    "# Loading Data"
   ]
  },
  {
   "cell_type": "code",
   "execution_count": 2,
   "metadata": {},
   "outputs": [],
   "source": [
    "#Loading data\n",
    "#Dataframe1=fake\n",
    "#Dataframe2=true\n",
    "fake = pd.read_csv(\"Fake.csv\")\n",
    "true = pd.read_csv(\"True.csv\")"
   ]
  },
  {
   "cell_type": "code",
   "execution_count": 3,
   "metadata": {},
   "outputs": [],
   "source": [
    "#adding a flag to track fake and real\n",
    "fake['target'] = 'fake'\n",
    "true['target'] = 'true'"
   ]
  },
  {
   "cell_type": "code",
   "execution_count": 4,
   "metadata": {},
   "outputs": [],
   "source": [
    "#concatenating the data frames\n",
    "data = pd.concat([fake, true]).reset_index(drop = True)"
   ]
  },
  {
   "cell_type": "code",
   "execution_count": 5,
   "metadata": {},
   "outputs": [],
   "source": [
    "#shuffle the data to prevent bias\n",
    "from sklearn.utils import shuffle\n",
    "data = shuffle(data)\n",
    "data = data.reset_index(drop=True)"
   ]
  },
  {
   "cell_type": "markdown",
   "metadata": {},
   "source": [
    "# Data Cleaning"
   ]
  },
  {
   "cell_type": "code",
   "execution_count": 6,
   "metadata": {},
   "outputs": [
    {
     "data": {
      "text/plain": [
       "(44898, 5)"
      ]
     },
     "execution_count": 6,
     "metadata": {},
     "output_type": "execute_result"
    }
   ],
   "source": [
    "data.shape"
   ]
  },
  {
   "cell_type": "code",
   "execution_count": 7,
   "metadata": {},
   "outputs": [
    {
     "data": {
      "text/plain": [
       "<bound method NDFrame.describe of                                                    title  \\\n",
       "0      Yemen's Saleh says ready for 'new page' with S...   \n",
       "1      Former soccer star Kaladze runs for mayor in G...   \n",
       "2      Bosnian pensioners stage street protests for p...   \n",
       "3      India, China need to do more to avoid border d...   \n",
       "4      Prospects for House vote on gun control measur...   \n",
       "...                                                  ...   \n",
       "44893  Austrian far right to control foreign, interio...   \n",
       "44894  Ramping up tensions over North Korea may have ...   \n",
       "44895  THE VIEW Brings On Bill O’Reilly’s Sexual Hara...   \n",
       "44896  Trump says process for finding new FBI chief i...   \n",
       "44897  At least 30 Burundian refugees die in clashes ...   \n",
       "\n",
       "                                                    text       subject  \\\n",
       "0      ADEN (Reuters) - Former Yemeni President Ali A...     worldnews   \n",
       "1      TBILISI (Reuters) - Kakha Kaladze climbed to t...     worldnews   \n",
       "2      SARAJEVO (Reuters) - Thousands of pensioners f...     worldnews   \n",
       "3      NEW DELHI (Reuters) - Indian Prime Minister Na...     worldnews   \n",
       "4      WASHINGTON (Reuters) - Prospects dimmed on Mon...  politicsNews   \n",
       "...                                                  ...           ...   \n",
       "44893  VIENNA (Reuters) - A coalition deal between Au...     worldnews   \n",
       "44894  MOSCOW (Reuters) - Actions that lead to an esc...     worldnews   \n",
       "44895  The last accuser who could have been the nail ...     left-news   \n",
       "44896  WASHINGTON (Reuters) - President Donald Trump ...  politicsNews   \n",
       "44897  KINSHASA (Reuters) - At least 30 Burundian ref...     worldnews   \n",
       "\n",
       "                      date target  \n",
       "0        December 2, 2017    true  \n",
       "1        October 19, 2017    true  \n",
       "2        October 25, 2017    true  \n",
       "3       September 5, 2017    true  \n",
       "4           July 12, 2016    true  \n",
       "...                    ...    ...  \n",
       "44893   December 16, 2017    true  \n",
       "44894  September 26, 2017    true  \n",
       "44895         Apr 20, 2017   fake  \n",
       "44896        May 15, 2017    true  \n",
       "44897  September 16, 2017    true  \n",
       "\n",
       "[44898 rows x 5 columns]>"
      ]
     },
     "execution_count": 7,
     "metadata": {},
     "output_type": "execute_result"
    }
   ],
   "source": [
    "data.describe"
   ]
  },
  {
   "cell_type": "code",
   "execution_count": 8,
   "metadata": {},
   "outputs": [
    {
     "data": {
      "text/plain": [
       "<bound method DataFrame.info of                                                    title  \\\n",
       "0      Yemen's Saleh says ready for 'new page' with S...   \n",
       "1      Former soccer star Kaladze runs for mayor in G...   \n",
       "2      Bosnian pensioners stage street protests for p...   \n",
       "3      India, China need to do more to avoid border d...   \n",
       "4      Prospects for House vote on gun control measur...   \n",
       "...                                                  ...   \n",
       "44893  Austrian far right to control foreign, interio...   \n",
       "44894  Ramping up tensions over North Korea may have ...   \n",
       "44895  THE VIEW Brings On Bill O’Reilly’s Sexual Hara...   \n",
       "44896  Trump says process for finding new FBI chief i...   \n",
       "44897  At least 30 Burundian refugees die in clashes ...   \n",
       "\n",
       "                                                    text       subject  \\\n",
       "0      ADEN (Reuters) - Former Yemeni President Ali A...     worldnews   \n",
       "1      TBILISI (Reuters) - Kakha Kaladze climbed to t...     worldnews   \n",
       "2      SARAJEVO (Reuters) - Thousands of pensioners f...     worldnews   \n",
       "3      NEW DELHI (Reuters) - Indian Prime Minister Na...     worldnews   \n",
       "4      WASHINGTON (Reuters) - Prospects dimmed on Mon...  politicsNews   \n",
       "...                                                  ...           ...   \n",
       "44893  VIENNA (Reuters) - A coalition deal between Au...     worldnews   \n",
       "44894  MOSCOW (Reuters) - Actions that lead to an esc...     worldnews   \n",
       "44895  The last accuser who could have been the nail ...     left-news   \n",
       "44896  WASHINGTON (Reuters) - President Donald Trump ...  politicsNews   \n",
       "44897  KINSHASA (Reuters) - At least 30 Burundian ref...     worldnews   \n",
       "\n",
       "                      date target  \n",
       "0        December 2, 2017    true  \n",
       "1        October 19, 2017    true  \n",
       "2        October 25, 2017    true  \n",
       "3       September 5, 2017    true  \n",
       "4           July 12, 2016    true  \n",
       "...                    ...    ...  \n",
       "44893   December 16, 2017    true  \n",
       "44894  September 26, 2017    true  \n",
       "44895         Apr 20, 2017   fake  \n",
       "44896        May 15, 2017    true  \n",
       "44897  September 16, 2017    true  \n",
       "\n",
       "[44898 rows x 5 columns]>"
      ]
     },
     "execution_count": 8,
     "metadata": {},
     "output_type": "execute_result"
    }
   ],
   "source": [
    "data.info"
   ]
  },
  {
   "cell_type": "code",
   "execution_count": 9,
   "metadata": {},
   "outputs": [
    {
     "data": {
      "text/plain": [
       "title      0\n",
       "text       0\n",
       "subject    0\n",
       "date       0\n",
       "target     0\n",
       "dtype: int64"
      ]
     },
     "execution_count": 9,
     "metadata": {},
     "output_type": "execute_result"
    }
   ],
   "source": [
    "#checking the missing values in dataset\n",
    "data.isnull().sum()"
   ]
  },
  {
   "cell_type": "code",
   "execution_count": 10,
   "metadata": {},
   "outputs": [
    {
     "data": {
      "text/plain": [
       "209"
      ]
     },
     "execution_count": 10,
     "metadata": {},
     "output_type": "execute_result"
    }
   ],
   "source": [
    "#checking for the duplicate data\n",
    "sum(data.duplicated())"
   ]
  },
  {
   "cell_type": "code",
   "execution_count": 11,
   "metadata": {},
   "outputs": [
    {
     "name": "stdout",
     "output_type": "stream",
     "text": [
      "0\n",
      "(44689, 5)\n"
     ]
    }
   ],
   "source": [
    "#droping the duplicate values by using drop \n",
    "# and then re-checking the duplicated values and shape of dataset\n",
    "data.drop_duplicates(inplace=True)\n",
    "print(sum(data.duplicated()))\n",
    "print(data.shape)"
   ]
  },
  {
   "cell_type": "code",
   "execution_count": 12,
   "metadata": {},
   "outputs": [
    {
     "data": {
      "text/plain": [
       "0"
      ]
     },
     "execution_count": 12,
     "metadata": {},
     "output_type": "execute_result"
    }
   ],
   "source": [
    "#re-checking the duplicate data\n",
    "sum(data.duplicated())"
   ]
  },
  {
   "cell_type": "code",
   "execution_count": 13,
   "metadata": {
    "scrolled": true
   },
   "outputs": [
    {
     "data": {
      "text/html": [
       "<div>\n",
       "<style scoped>\n",
       "    .dataframe tbody tr th:only-of-type {\n",
       "        vertical-align: middle;\n",
       "    }\n",
       "\n",
       "    .dataframe tbody tr th {\n",
       "        vertical-align: top;\n",
       "    }\n",
       "\n",
       "    .dataframe thead th {\n",
       "        text-align: right;\n",
       "    }\n",
       "</style>\n",
       "<table border=\"1\" class=\"dataframe\">\n",
       "  <thead>\n",
       "    <tr style=\"text-align: right;\">\n",
       "      <th></th>\n",
       "      <th>title</th>\n",
       "      <th>text</th>\n",
       "      <th>subject</th>\n",
       "      <th>date</th>\n",
       "      <th>target</th>\n",
       "    </tr>\n",
       "  </thead>\n",
       "  <tbody>\n",
       "    <tr>\n",
       "      <th>0</th>\n",
       "      <td>Yemen's Saleh says ready for 'new page' with S...</td>\n",
       "      <td>ADEN (Reuters) - Former Yemeni President Ali A...</td>\n",
       "      <td>worldnews</td>\n",
       "      <td>December 2, 2017</td>\n",
       "      <td>true</td>\n",
       "    </tr>\n",
       "    <tr>\n",
       "      <th>1</th>\n",
       "      <td>Former soccer star Kaladze runs for mayor in G...</td>\n",
       "      <td>TBILISI (Reuters) - Kakha Kaladze climbed to t...</td>\n",
       "      <td>worldnews</td>\n",
       "      <td>October 19, 2017</td>\n",
       "      <td>true</td>\n",
       "    </tr>\n",
       "    <tr>\n",
       "      <th>2</th>\n",
       "      <td>Bosnian pensioners stage street protests for p...</td>\n",
       "      <td>SARAJEVO (Reuters) - Thousands of pensioners f...</td>\n",
       "      <td>worldnews</td>\n",
       "      <td>October 25, 2017</td>\n",
       "      <td>true</td>\n",
       "    </tr>\n",
       "    <tr>\n",
       "      <th>3</th>\n",
       "      <td>India, China need to do more to avoid border d...</td>\n",
       "      <td>NEW DELHI (Reuters) - Indian Prime Minister Na...</td>\n",
       "      <td>worldnews</td>\n",
       "      <td>September 5, 2017</td>\n",
       "      <td>true</td>\n",
       "    </tr>\n",
       "    <tr>\n",
       "      <th>4</th>\n",
       "      <td>Prospects for House vote on gun control measur...</td>\n",
       "      <td>WASHINGTON (Reuters) - Prospects dimmed on Mon...</td>\n",
       "      <td>politicsNews</td>\n",
       "      <td>July 12, 2016</td>\n",
       "      <td>true</td>\n",
       "    </tr>\n",
       "  </tbody>\n",
       "</table>\n",
       "</div>"
      ],
      "text/plain": [
       "                                               title  \\\n",
       "0  Yemen's Saleh says ready for 'new page' with S...   \n",
       "1  Former soccer star Kaladze runs for mayor in G...   \n",
       "2  Bosnian pensioners stage street protests for p...   \n",
       "3  India, China need to do more to avoid border d...   \n",
       "4  Prospects for House vote on gun control measur...   \n",
       "\n",
       "                                                text       subject  \\\n",
       "0  ADEN (Reuters) - Former Yemeni President Ali A...     worldnews   \n",
       "1  TBILISI (Reuters) - Kakha Kaladze climbed to t...     worldnews   \n",
       "2  SARAJEVO (Reuters) - Thousands of pensioners f...     worldnews   \n",
       "3  NEW DELHI (Reuters) - Indian Prime Minister Na...     worldnews   \n",
       "4  WASHINGTON (Reuters) - Prospects dimmed on Mon...  politicsNews   \n",
       "\n",
       "                 date target  \n",
       "0   December 2, 2017    true  \n",
       "1   October 19, 2017    true  \n",
       "2   October 25, 2017    true  \n",
       "3  September 5, 2017    true  \n",
       "4      July 12, 2016    true  "
      ]
     },
     "execution_count": 13,
     "metadata": {},
     "output_type": "execute_result"
    }
   ],
   "source": [
    "#cchecking the first five rows of the data set....\n",
    "data.head()"
   ]
  },
  {
   "cell_type": "code",
   "execution_count": 14,
   "metadata": {},
   "outputs": [],
   "source": [
    "#dropping 'date' and 'title' attributes  \n",
    "data.drop([\"date\"],axis=1,inplace=True) #we won’t use it for the analysis\n",
    "data.drop([\"title\"],axis=1,inplace=True) #we need only text"
   ]
  },
  {
   "cell_type": "code",
   "execution_count": 15,
   "metadata": {},
   "outputs": [],
   "source": [
    "#Converting the text to lowercase:\n",
    "data['text'] = data['text'].apply(lambda x: x.lower())"
   ]
  },
  {
   "cell_type": "code",
   "execution_count": 16,
   "metadata": {},
   "outputs": [
    {
     "data": {
      "text/html": [
       "<div>\n",
       "<style scoped>\n",
       "    .dataframe tbody tr th:only-of-type {\n",
       "        vertical-align: middle;\n",
       "    }\n",
       "\n",
       "    .dataframe tbody tr th {\n",
       "        vertical-align: top;\n",
       "    }\n",
       "\n",
       "    .dataframe thead th {\n",
       "        text-align: right;\n",
       "    }\n",
       "</style>\n",
       "<table border=\"1\" class=\"dataframe\">\n",
       "  <thead>\n",
       "    <tr style=\"text-align: right;\">\n",
       "      <th></th>\n",
       "      <th>text</th>\n",
       "      <th>subject</th>\n",
       "      <th>target</th>\n",
       "    </tr>\n",
       "  </thead>\n",
       "  <tbody>\n",
       "    <tr>\n",
       "      <th>0</th>\n",
       "      <td>aden (reuters) - former yemeni president ali a...</td>\n",
       "      <td>worldnews</td>\n",
       "      <td>true</td>\n",
       "    </tr>\n",
       "    <tr>\n",
       "      <th>1</th>\n",
       "      <td>tbilisi (reuters) - kakha kaladze climbed to t...</td>\n",
       "      <td>worldnews</td>\n",
       "      <td>true</td>\n",
       "    </tr>\n",
       "    <tr>\n",
       "      <th>2</th>\n",
       "      <td>sarajevo (reuters) - thousands of pensioners f...</td>\n",
       "      <td>worldnews</td>\n",
       "      <td>true</td>\n",
       "    </tr>\n",
       "    <tr>\n",
       "      <th>3</th>\n",
       "      <td>new delhi (reuters) - indian prime minister na...</td>\n",
       "      <td>worldnews</td>\n",
       "      <td>true</td>\n",
       "    </tr>\n",
       "    <tr>\n",
       "      <th>4</th>\n",
       "      <td>washington (reuters) - prospects dimmed on mon...</td>\n",
       "      <td>politicsNews</td>\n",
       "      <td>true</td>\n",
       "    </tr>\n",
       "  </tbody>\n",
       "</table>\n",
       "</div>"
      ],
      "text/plain": [
       "                                                text       subject target\n",
       "0  aden (reuters) - former yemeni president ali a...     worldnews   true\n",
       "1  tbilisi (reuters) - kakha kaladze climbed to t...     worldnews   true\n",
       "2  sarajevo (reuters) - thousands of pensioners f...     worldnews   true\n",
       "3  new delhi (reuters) - indian prime minister na...     worldnews   true\n",
       "4  washington (reuters) - prospects dimmed on mon...  politicsNews   true"
      ]
     },
     "execution_count": 16,
     "metadata": {},
     "output_type": "execute_result"
    }
   ],
   "source": [
    "#check\n",
    "data.head()"
   ]
  },
  {
   "cell_type": "code",
   "execution_count": 17,
   "metadata": {},
   "outputs": [],
   "source": [
    "#Remove punctuation:\n",
    "import string\n",
    "def punctuation_removal(text):\n",
    "    all_list = [char for char in text if char not in string.punctuation]\n",
    "    clean_str = ''.join(all_list)\n",
    "    return clean_str\n",
    "data['text'] = data['text'].apply(punctuation_removal)"
   ]
  },
  {
   "cell_type": "code",
   "execution_count": 18,
   "metadata": {},
   "outputs": [
    {
     "name": "stderr",
     "output_type": "stream",
     "text": [
      "[nltk_data] Downloading package stopwords to C:\\Users\\Ishita\n",
      "[nltk_data]     Singh\\AppData\\Roaming\\nltk_data...\n",
      "[nltk_data]   Package stopwords is already up-to-date!\n"
     ]
    }
   ],
   "source": [
    "#Remove stopwords:\n",
    "import nltk\n",
    "nltk.download('stopwords')\n",
    "from nltk.corpus import stopwords\n",
    "stop = stopwords.words('english')\n",
    "data['text'] = data['text'].apply(lambda x: ' '.join([word for word in x.split() \n",
    "                                                      if word not in (stop)]))"
   ]
  },
  {
   "cell_type": "code",
   "execution_count": 19,
   "metadata": {},
   "outputs": [
    {
     "data": {
      "text/html": [
       "<div>\n",
       "<style scoped>\n",
       "    .dataframe tbody tr th:only-of-type {\n",
       "        vertical-align: middle;\n",
       "    }\n",
       "\n",
       "    .dataframe tbody tr th {\n",
       "        vertical-align: top;\n",
       "    }\n",
       "\n",
       "    .dataframe thead th {\n",
       "        text-align: right;\n",
       "    }\n",
       "</style>\n",
       "<table border=\"1\" class=\"dataframe\">\n",
       "  <thead>\n",
       "    <tr style=\"text-align: right;\">\n",
       "      <th></th>\n",
       "      <th>text</th>\n",
       "      <th>subject</th>\n",
       "      <th>target</th>\n",
       "    </tr>\n",
       "  </thead>\n",
       "  <tbody>\n",
       "    <tr>\n",
       "      <th>0</th>\n",
       "      <td>aden reuters former yemeni president ali abdul...</td>\n",
       "      <td>worldnews</td>\n",
       "      <td>true</td>\n",
       "    </tr>\n",
       "    <tr>\n",
       "      <th>1</th>\n",
       "      <td>tbilisi reuters kakha kaladze climbed top worl...</td>\n",
       "      <td>worldnews</td>\n",
       "      <td>true</td>\n",
       "    </tr>\n",
       "    <tr>\n",
       "      <th>2</th>\n",
       "      <td>sarajevo reuters thousands pensioners across b...</td>\n",
       "      <td>worldnews</td>\n",
       "      <td>true</td>\n",
       "    </tr>\n",
       "    <tr>\n",
       "      <th>3</th>\n",
       "      <td>new delhi reuters indian prime minister narend...</td>\n",
       "      <td>worldnews</td>\n",
       "      <td>true</td>\n",
       "    </tr>\n",
       "    <tr>\n",
       "      <th>4</th>\n",
       "      <td>washington reuters prospects dimmed monday us ...</td>\n",
       "      <td>politicsNews</td>\n",
       "      <td>true</td>\n",
       "    </tr>\n",
       "  </tbody>\n",
       "</table>\n",
       "</div>"
      ],
      "text/plain": [
       "                                                text       subject target\n",
       "0  aden reuters former yemeni president ali abdul...     worldnews   true\n",
       "1  tbilisi reuters kakha kaladze climbed top worl...     worldnews   true\n",
       "2  sarajevo reuters thousands pensioners across b...     worldnews   true\n",
       "3  new delhi reuters indian prime minister narend...     worldnews   true\n",
       "4  washington reuters prospects dimmed monday us ...  politicsNews   true"
      ]
     },
     "execution_count": 19,
     "metadata": {},
     "output_type": "execute_result"
    }
   ],
   "source": [
    "#check\n",
    "data.head()"
   ]
  }
 ],
 "metadata": {
  "kernelspec": {
   "display_name": "Python 3",
   "language": "python",
   "name": "python3"
  },
  "language_info": {
   "codemirror_mode": {
    "name": "ipython",
    "version": 3
   },
   "file_extension": ".py",
   "mimetype": "text/x-python",
   "name": "python",
   "nbconvert_exporter": "python",
   "pygments_lexer": "ipython3",
   "version": "3.7.6"
  }
 },
 "nbformat": 4,
 "nbformat_minor": 4
}
